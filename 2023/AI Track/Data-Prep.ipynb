{
 "cells": [
  {
   "cell_type": "markdown",
   "metadata": {},
   "source": [
    "# **Data preparation**\n",
    "\n",
    "This notebook contains the code to preprocess and convert lecture transcripts and course notes into embeddings for later use in the student copilot application"
   ]
  },
  {
   "cell_type": "markdown",
   "metadata": {},
   "source": [
    "### **What's Semantic Kernel**\n",
    "\n",
    "Semantic Kernel is an open-source SDK that lets you easily combine AI services like OpenAI, Azure OpenAI, and Hugging Face with conventional programming languages like C# and Python. By doing so, you can create AI apps that combine the best of both worlds.\n",
    "\n",
    "![Copilot Stack](./imgs/mind-and-body-of-semantic-kernel.png)\n",
    "\n",
    "\n",
    "Semantic Kernel has been engineered to allow developers to flexibly integrate AI services into their existing apps. To do so, Semantic Kernel provides a set of connectors that make it easy to add memories and models. In this way, Semantic Kernel is able to add a simulated \"brain\" to your app.\n",
    "\n",
    "Additionally, Semantic Kernel makes it easy to add skills to your applications with AI plugins that allow you to interact with the real world. These plugins are composed of prompts and native functions that can respond to triggers and perform actions. In this way, plugins are like the \"body\" of your AI app.\n",
    "\n",
    "Because of the extensibility Semantic Kernel provides with connectors and plugins, you can use it to orchestrate AI plugins from both OpenAI and Microsoft on top of nearly any model. For example, you can use Semantic Kernel to orchestrate plugins built for ChatGPT, Bing, and Microsoft 365 Copilot on top of models from OpenAI, Azure, or even Hugging Face.\n",
    "\n"
   ]
  },
  {
   "cell_type": "markdown",
   "metadata": {},
   "source": [
    "using nuget to add Microsoft.SemanticKernel & Microsoft.SemanticKernel.Connectors.Memory.Qdrant library"
   ]
  },
  {
   "cell_type": "code",
   "execution_count": 2,
   "metadata": {
    "dotnet_interactive": {
     "language": "csharp"
    },
    "polyglot_notebook": {
     "kernelName": "csharp"
    }
   },
   "outputs": [
    {
     "data": {
      "text/html": [
       "<div><div></div><div></div><div><strong>Installed Packages</strong><ul><li><span>Microsoft.SemanticKernel, 1.0.0-beta3</span></li><li><span>Microsoft.SemanticKernel.Connectors.Memory.Qdrant, 1.0.0-beta3</span></li></ul></div></div>"
      ]
     },
     "metadata": {},
     "output_type": "display_data"
    }
   ],
   "source": [
    "#r \"nuget: Microsoft.SemanticKernel, *-*\"\n",
    "#r \"nuget: Microsoft.SemanticKernel.Connectors.Memory.Qdrant, *-*\""
   ]
  },
  {
   "cell_type": "code",
   "execution_count": 3,
   "metadata": {
    "dotnet_interactive": {
     "language": "csharp"
    },
    "polyglot_notebook": {
     "kernelName": "csharp"
    }
   },
   "outputs": [],
   "source": [
    "using Microsoft.SemanticKernel;\n",
    "using Microsoft.SemanticKernel.Plugins.Core;\n",
    "using Microsoft.SemanticKernel.Connectors.AI.OpenAI;\n",
    "using Microsoft.SemanticKernel.Connectors.AI.OpenAI.TextEmbedding;\n",
    "\n",
    "using Microsoft.SemanticKernel.Plugins.Memory;\n",
    "using Microsoft.SemanticKernel.Connectors.Memory.Qdrant;"
   ]
  },
  {
   "cell_type": "code",
   "execution_count": 4,
   "metadata": {
    "dotnet_interactive": {
     "language": "csharp"
    },
    "polyglot_notebook": {
     "kernelName": "csharp"
    }
   },
   "outputs": [],
   "source": [
    "using System;\n",
    "using System.IO;\n",
    "using System.Text.Json;"
   ]
  },
  {
   "cell_type": "markdown",
   "metadata": {},
   "source": [
    "### **Creating the kernel runtime environment**\n",
    "\n",
    "By investigating the constructor of the Kernel class, you can see that you can configure multiple settings that are necessary to run both native and semantic functions. These include:\n",
    "\n",
    "- The default AI service that will power your semantic functions.\n",
    "\n",
    "- The template engine used to render prompt templates.\n",
    "\n",
    "- The logger used to log messages from functions.\n",
    "\n",
    "- The plugins available to be executed by the kernel\n",
    "\n",
    "- Additional configuration used by the kernel via the KernelConfig class."
   ]
  },
  {
   "cell_type": "code",
   "execution_count": 16,
   "metadata": {
    "dotnet_interactive": {
     "language": "csharp"
    },
    "polyglot_notebook": {
     "kernelName": "csharp"
    }
   },
   "outputs": [],
   "source": [
    "var AZURE_OPENAI_ENDPOINT = Environment.GetEnvironmentVariable(\"AZURE_OPENAI_ENDPOINT\");\n",
    "var AZURE_OPENAI_KEY = Environment.GetEnvironmentVariable(\"AZURE_OPENAI_KEY\");\n",
    "var AZURE_OPENAI_EMBEDDING_DEPLOYMENT = Environment.GetEnvironmentVariable(\"AZURE_OPENAI_EMBEDDING_DEPLOYMENT\");\n",
    "var AZURE_OPENAI_CHAT_DEPLOYMENT = Environment.GetEnvironmentVariable(\"AZURE_OPENAI_CHAT_DEPLOYMENT\");\n",
    "var QDRANT_HOST = Environment.GetEnvironmentVariable(\"QDRANT_HOST\");"
   ]
  },
  {
   "cell_type": "code",
   "execution_count": 6,
   "metadata": {
    "dotnet_interactive": {
     "language": "csharp"
    },
    "polyglot_notebook": {
     "kernelName": "csharp"
    }
   },
   "outputs": [],
   "source": [
    "IKernel kernel = new KernelBuilder().WithAzureChatCompletionService(AZURE_OPENAI_CHAT_DEPLOYMENT, AZURE_OPENAI_ENDPOINT, AZURE_OPENAI_KEY).Build();"
   ]
  },
  {
   "cell_type": "markdown",
   "metadata": {},
   "source": [
    "### **What is a plugin?**\n",
    "\n",
    "To drive alignment across the industry, we've adopted the OpenAI plugin specification as the standard for plugins. This will help create an ecosystem of interoperable plugins that can be used across all of the major AI apps and services like ChatGPT, Bing, and Microsoft 365.\n"
   ]
  },
  {
   "cell_type": "code",
   "execution_count": 7,
   "metadata": {
    "dotnet_interactive": {
     "language": "csharp"
    },
    "polyglot_notebook": {
     "kernelName": "csharp"
    }
   },
   "outputs": [],
   "source": [
    "var pluginDirectory =  System.IO.Directory.GetCurrentDirectory() + \"/Plugins\";"
   ]
  },
  {
   "cell_type": "markdown",
   "metadata": {},
   "source": [
    "Set plugin for File and Answer"
   ]
  },
  {
   "cell_type": "code",
   "execution_count": 8,
   "metadata": {
    "dotnet_interactive": {
     "language": "csharp"
    },
    "polyglot_notebook": {
     "kernelName": "csharp"
    }
   },
   "outputs": [],
   "source": [
    "var filePlugin = kernel.ImportSemanticFunctionsFromDirectory(pluginDirectory,\"FilePlugin\");\n",
    "var answerPlugin = kernel.ImportSemanticFunctionsFromDirectory(pluginDirectory,\"AnswerPlugin\");"
   ]
  },
  {
   "cell_type": "code",
   "execution_count": 9,
   "metadata": {
    "dotnet_interactive": {
     "language": "csharp"
    },
    "polyglot_notebook": {
     "kernelName": "csharp"
    }
   },
   "outputs": [],
   "source": [
    "public class KB\n",
    "{\n",
    "    public string kb { get; set; }\n",
    "    public string content { get; set; }\n",
    "}"
   ]
  },
  {
   "cell_type": "markdown",
   "metadata": {},
   "source": [
    "Get knowledge from transcripts"
   ]
  },
  {
   "cell_type": "code",
   "execution_count": 10,
   "metadata": {
    "dotnet_interactive": {
     "language": "csharp"
    },
    "polyglot_notebook": {
     "kernelName": "csharp"
    }
   },
   "outputs": [],
   "source": [
    "DirectoryInfo transcriptsFolder = new DirectoryInfo(@\"./data/transcripts\");    \n",
    "FileInfo[] transcriptsFiles = transcriptsFolder.GetFiles();"
   ]
  },
  {
   "cell_type": "code",
   "execution_count": 11,
   "metadata": {
    "dotnet_interactive": {
     "language": "csharp"
    },
    "polyglot_notebook": {
     "kernelName": "csharp"
    }
   },
   "outputs": [],
   "source": [
    "IList<KB> kbList = new List<KB>();\n",
    "\n",
    "foreach(var file in transcriptsFiles)\n",
    "{\n",
    "    string content = File.ReadAllText(file.FullName);\n",
    "    var jsonResult = await kernel.RunAsync(content, filePlugin[\"Transcrips\"]);\n",
    "    var result = JsonSerializer.Deserialize<List<KB>>(jsonResult.ToString());\n",
    "    foreach(var item in result)\n",
    "    {\n",
    "        kbList.Add(item);\n",
    "    }\n",
    "}"
   ]
  },
  {
   "cell_type": "code",
   "execution_count": 12,
   "metadata": {
    "dotnet_interactive": {
     "language": "csharp"
    },
    "polyglot_notebook": {
     "kernelName": "csharp"
    }
   },
   "outputs": [
    {
     "data": {
      "text/html": [
       "<table><thead><tr><th><i>index</i></th><th>value</th></tr></thead><tbody><tr><td>0</td><td><details class=\"dni-treeview\"><summary><span class=\"dni-code-hint\"><code>Submission#8+KB</code></span></summary><div><table><thead><tr></tr></thead><tbody><tr><td>kb</td><td><div class=\"dni-plaintext\"><pre>Intro</pre></div></td></tr><tr><td>content</td><td><div class=\"dni-plaintext\"><pre>in this video I want to give you a bit of Background by walking through the major milestones in the history of machine learning and artificial intelligence</pre></div></td></tr></tbody></table></div></details></td></tr><tr><td>1</td><td><details class=\"dni-treeview\"><summary><span class=\"dni-code-hint\"><code>Submission#8+KB</code></span></summary><div><table><thead><tr></tr></thead><tbody><tr><td>kb</td><td><div class=\"dni-plaintext\"><pre>Alan Turing and the Turing test</pre></div></td></tr><tr><td>content</td><td><div class=\"dni-plaintext\"><pre>intelligence really begun in 1950s though it&#39;s based on mathematical and statistical developments over many centuries Alan Turing is credited with helping to lay the foundation for the concept of a machine they can think in his quest to Define machine intelligence he achieved a crucial Milestone by creating the Turing test in 1950. in this test an interrogator questions both a human and a computer and tries to determine which one is which if the interrogator cannot tell the difference then the computer can be considered intelligent</pre></div></td></tr></tbody></table></div></details></td></tr><tr><td>2</td><td><details class=\"dni-treeview\"><summary><span class=\"dni-code-hint\"><code>Submission#8+KB</code></span></summary><div><table><thead><tr></tr></thead><tbody><tr><td>kb</td><td><div class=\"dni-plaintext\"><pre>The Dartmouth Summer Research Project on AI</pre></div></td></tr><tr><td>content</td><td><div class=\"dni-plaintext\"><pre>artificial intelligence was coined with a small group of scientists gathered at Dartmouth College in the U.S for an event called the summer research project on artificial intelligence this conference was the birth of the field of research we know as AI</pre></div></td></tr></tbody></table></div></details></td></tr><tr><td>3</td><td><details class=\"dni-treeview\"><summary><span class=\"dni-code-hint\"><code>Submission#8+KB</code></span></summary><div><table><thead><tr></tr></thead><tbody><tr><td>kb</td><td><div class=\"dni-plaintext\"><pre>The golden years of AI</pre></div></td></tr><tr><td>content</td><td><div class=\"dni-plaintext\"><pre>the years from 1956 to 1974 are known as The Golden Ears of AI optimism ran high in the hope that AI could solve many problems in 1967 Marvin Minsky the co-founder of the mitai lab stated confidently and incorrectly that within a generation the problem of creating artificial intelligence will substantially be solved natural language processing research flourished search was refined and made more powerful and the concept of micro worlds was created where simple tasks were completed using plain language instructions research was well funded by government agencies advances were made in computation and algorithms and prototypes of intelligent machines were built some of these machines include shaky the robot who could maneuver and decide how to perform tasks intelligently Eliza and gnarly charabot that could converse with people and act as a primitive therapist Blocksworld an example of a micro world where blogs get could be stacked and sorted and decision-making experiments could be tested by the mid-1970s it had become apparent that the complexity of making intelligent machines had been understated and that its promise had been overblown compute power was too limited there was a lack of data to train and test AIS and there were questions around the ethics of introducing AI systems like the therapist Eliza into society funding dried up and confidence in the field slowed marking the beginning of what is called an AI winter</pre></div></td></tr></tbody></table></div></details></td></tr><tr><td>4</td><td><details class=\"dni-treeview\"><summary><span class=\"dni-code-hint\"><code>Submission#8+KB</code></span></summary><div><table><thead><tr></tr></thead><tbody><tr><td>kb</td><td><div class=\"dni-plaintext\"><pre>The AI winter</pre></div></td></tr><tr><td>content</td><td><div class=\"dni-plaintext\"><pre>in the 1980s as computers became more powerful expert systems became more successful there was a Resurgence in optimism about AI as businesses found practical applications of these rule-based inference systems by the late 80s it was becoming apparent that expert systems had become too specialized and were unlikely to achieve machine intelligence the rise of personal computers also competed with these large specialized centralized systems this led to another chill in the AI field</pre></div></td></tr></tbody></table></div></details></td></tr><tr><td>5</td><td><details class=\"dni-treeview\"><summary><span class=\"dni-code-hint\"><code>Submission#8+KB</code></span></summary><div><table><thead><tr></tr></thead><tbody><tr><td>kb</td><td><div class=\"dni-plaintext\"><pre>Resurgence and fall of AI for expert systems</pre></div></td></tr><tr><td>content</td><td><div class=\"dni-plaintext\"><pre>things began to change in the mid-1990s as compute and storage capabilities grew exponentially making it possible to process much larger data sets than ever before the rise of the internet and the popularity of smartphones both contributed to increasing amounts of data a new experiments in machine learning became possible throughout the 2000s significant advancements were made in computer vision and natural language processing by training machine learning models on Big Data</pre></div></td></tr></tbody></table></div></details></td></tr><tr><td>6</td><td><details class=\"dni-treeview\"><summary><span class=\"dni-code-hint\"><code>Submission#8+KB</code></span></summary><div><table><thead><tr></tr></thead><tbody><tr><td>kb</td><td><div class=\"dni-plaintext\"><pre>Growth in AI driven by more data and more powerful hardware</pre></div></td></tr><tr><td>content</td><td><div class=\"dni-plaintext\"><pre>in the past decade compute power and the size of data sets have continued to grow and machine learning has become capable of solving even more problems as a result today machine learning touches almost every part of our Lives sometimes we&#39;re well aware of it like when we interact with chat TPT in the browser or see a self-driving car go by but most of the time it&#39;s seamlessly woven into familiar experiences of our everyday life such as when we&#39;re approved for a new loan or get a catalog at home</pre></div></td></tr></tbody></table></div></details></td></tr><tr><td>7</td><td><details class=\"dni-treeview\"><summary><span class=\"dni-code-hint\"><code>Submission#8+KB</code></span></summary><div><table><thead><tr></tr></thead><tbody><tr><td>kb</td><td><div class=\"dni-plaintext\"><pre>Increased awareness of ethical and responsible AI</pre></div></td></tr><tr><td>content</td><td><div class=\"dni-plaintext\"><pre>this era has also been marked by an increased awareness of potential ethical issues in machine learning and by significant research in the field of responsible AI we want the benefits of AI but we also want AI that is responsible and doesn&#39;t amplify human bias in the next video we will introduce techniques for building using and maintaining machine learning models I&#39;ll see you there</pre></div></td></tr></tbody></table></div></details></td></tr><tr><td>8</td><td><details class=\"dni-treeview\"><summary><span class=\"dni-code-hint\"><code>Submission#8+KB</code></span></summary><div><table><thead><tr></tr></thead><tbody><tr><td>kb</td><td><div class=\"dni-plaintext\"><pre>Intro</pre></div></td></tr><tr><td>content</td><td><div class=\"dni-plaintext\"><pre>the process of building machine learning models is very different from any other development workflow in this video you&#39;ll learn about that process more specifically you learn about deciding whether AI is the right approach for your problem collecting and preparing your data training your model evaluating your model tuning the hyper parameters and testing the trained model in the real world</pre></div></td></tr></tbody></table></div></details></td></tr><tr><td>9</td><td><details class=\"dni-treeview\"><summary><span class=\"dni-code-hint\"><code>Submission#8+KB</code></span></summary><div><table><thead><tr></tr></thead><tbody><tr><td>kb</td><td><div class=\"dni-plaintext\"><pre>Decide if AI is the right approach</pre></div></td></tr><tr><td>content</td><td><div class=\"dni-plaintext\"><pre>traditional software is well suited to solve problems where the solution can be described as a formal set of rules in contrast AI shines in solving problems where the solution can be extracted from data many of the problems we encountered in our daily life can be efficiently solved with traditional programming if an engineer can break up the solution of a problem and Define it using precise rules then traditional programming is a great tool to use but many of the problems we encounter in our day-to-day aren&#39;t quite as easy to Define as a set of rules thankfully for many of those problems we have access to plenty of real life data containing useful information which means that AI can help us find a solution one good example is translating from one language to another writing a set of rules that full encodes all the parallels between two languages is not easy but there are many examples of translation online so AI has been able to do a much better job of translation than previous attempts so our first step when we&#39;re starting a new project should be to analyze the problem and determine which technique is best to solve it if you&#39;re able to obtain plenty of data that contains useful information about your solution then AI is a promising approach once you decided that</pre></div></td></tr></tbody></table></div></details></td></tr><tr><td>10</td><td><details class=\"dni-treeview\"><summary><span class=\"dni-code-hint\"><code>Submission#8+KB</code></span></summary><div><table><thead><tr></tr></thead><tbody><tr><td>kb</td><td><div class=\"dni-plaintext\"><pre>Collect and prepare data</pre></div></td></tr><tr><td>content</td><td><div class=\"dni-plaintext\"><pre>AI is the right method for you you need to collect and prepare your data for example you may need to normalize it or convert it to a different form or remove rows that are missing certain Fields once your data is clean you need to decide about which aspects of your data or features you&#39;re going to use as input to your prediction and which feature you want to predict for example if you have medical data you may decide to use features that describe the patient&#39;s medical history as input and a chance of a particular disease as the output feature you want to predict and finally you need to split your data into training and test sets a usual split is 80 for your training data and 20 for test</pre></div></td></tr></tbody></table></div></details></td></tr><tr><td>11</td><td><details class=\"dni-treeview\"><summary><span class=\"dni-code-hint\"><code>Submission#8+KB</code></span></summary><div><table><thead><tr></tr></thead><tbody><tr><td>kb</td><td><div class=\"dni-plaintext\"><pre>Train your model</pre></div></td></tr><tr><td>content</td><td><div class=\"dni-plaintext\"><pre>next you need to choose a machine learning algorithm which you&#39;ll learn a lot about in the coming videos if you&#39;re undecided between a few good algorithms you may want to try them all and see which one performs best then you need to train your model using the training set you collected earlier and the algorithm you chose training a model may take a while especially if the model is large</pre></div></td></tr></tbody></table></div></details></td></tr><tr><td>12</td><td><details class=\"dni-treeview\"><summary><span class=\"dni-code-hint\"><code>Submission#8+KB</code></span></summary><div><table><thead><tr></tr></thead><tbody><tr><td>kb</td><td><div class=\"dni-plaintext\"><pre>Evaluate your model</pre></div></td></tr><tr><td>content</td><td><div class=\"dni-plaintext\"><pre>once the model is trained you can test it using the test data set that you split earlier it&#39;s important that you test the algorithm with data that it hasn&#39;t seen during training to ensure that it generalizes well to new scenarios</pre></div></td></tr></tbody></table></div></details></td></tr><tr><td>13</td><td><details class=\"dni-treeview\"><summary><span class=\"dni-code-hint\"><code>Submission#8+KB</code></span></summary><div><table><thead><tr></tr></thead><tbody><tr><td>kb</td><td><div class=\"dni-plaintext\"><pre>Tune the hyperparameters</pre></div></td></tr><tr><td>content</td><td><div class=\"dni-plaintext\"><pre>some algorithms contain hyper parameters which are settings that control key aspects of their inner workings choosing good hyper parameters is important because they can make a big difference in your results if you want to be systematic about your hyper parameter search you can write code that tries lots of different combinations and helps you discover the best values for your data once you get good test results it&#39;s time to see how well your model performs within the context of its intended use for example this could involve collecting live data from a sensor and using it to make predictions or deploying a model to a few users of your application if it all looks good then you&#39;re ready to release it to production and enjoy its benefits</pre></div></td></tr></tbody></table></div></details></td></tr><tr><td>14</td><td><details class=\"dni-treeview\"><summary><span class=\"dni-code-hint\"><code>Submission#8+KB</code></span></summary><div><table><thead><tr></tr></thead><tbody><tr><td>kb</td><td><div class=\"dni-plaintext\"><pre>Test the model in the real world</pre></div></td></tr><tr><td>content</td><td><div class=\"dni-plaintext\"><pre>make sure you watch the next video where we&#39;ll start getting Hands-On with machine learning by configuring all the tools we&#39;ll use in the rest of the series I&#39;ll see you there</pre></div></td></tr></tbody></table></div></details></td></tr><tr><td>15</td><td><details class=\"dni-treeview\"><summary><span class=\"dni-code-hint\"><code>Submission#8+KB</code></span></summary><div><table><thead><tr></tr></thead><tbody><tr><td>kb</td><td><div class=\"dni-plaintext\"><pre>Introducing ML for Beginners</pre></div></td></tr><tr><td>content</td><td><div class=\"dni-plaintext\"><pre>hello and welcome to this course on classical machine learning for beginners whether you&#39;re completely new to the topic or an experienced ml practitioner looking to brush up on an area we&#39;re happy to have you join us this course is based on the free open source 26 lesson ml for beginners curriculum from Microsoft which can be found at AKA dot Ms slash ml-beginners machine learning is one of the most popular Technologies these days I&#39;m sure you&#39;ve heard this term if you have any sort of familiarity with technology no matter what domain you work in however the mechanics of machine learning are a mystery to most people and the subject can sometimes feel overwhelming in this course you&#39;ll start right from the beginning and you&#39;ll learn about it step by step to practical Hands-On coding examples let&#39;s</pre></div></td></tr></tbody></table></div></details></td></tr><tr><td>16</td><td><details class=\"dni-treeview\"><summary><span class=\"dni-code-hint\"><code>Submission#8+KB</code></span></summary><div><table><thead><tr></tr></thead><tbody><tr><td>kb</td><td><div class=\"dni-plaintext\"><pre>The difference between AI and ML</pre></div></td></tr><tr><td>content</td><td><div class=\"dni-plaintext\"><pre>start by talking about the difference between artificial intelligence and machine learning AI is a science of getting machines to accomplish tasks that typically require human level intelligence many different techniques have been proposed for AI but the most successful and popular approach these days is machine learning unlike other AI techniques ml uses specialized algorithms to make decisions by learning from data so machine learning is really a subset of artificial intelligence you&#39;ve also probably heard of deep learning which is a subset of machine learning that relies on neural networks to learn from data in this course we&#39;re</pre></div></td></tr></tbody></table></div></details></td></tr><tr><td>17</td><td><details class=\"dni-treeview\"><summary><span class=\"dni-code-hint\"><code>Submission#8+KB</code></span></summary><div><table><thead><tr></tr></thead><tbody><tr><td>kb</td><td><div class=\"dni-plaintext\"><pre>What you&#39;ll learn in this course</pre></div></td></tr><tr><td>content</td><td><div class=\"dni-plaintext\"><pre>going to cover what we call classical machine learning you&#39;ll learn some Core Concepts of ml a bit of History statistical techniques like regression classification clustering and more the concepts you&#39;ll learn here will serve you well as you progress to more</pre></div></td></tr></tbody></table></div></details></td></tr><tr><td>18</td><td><details class=\"dni-treeview\"><summary><span class=\"dni-code-hint\"><code>Submission#8+KB</code></span></summary><div><table><thead><tr></tr></thead><tbody><tr><td>kb</td><td><div class=\"dni-plaintext\"><pre>Advanced Techniques</pre></div></td></tr><tr><td>content</td><td><div class=\"dni-plaintext\"><pre>keep in mind that this course won&#39;t cover data science deep learning neural networks and AI techniques other than ml Microsoft offers two additional courses for you to learn more about these areas data science for beginners available at AKA dot Ms slash data science beginners and AI for beginners available at aka.ms Ai and beginners machine learning is a</pre></div></td></tr></tbody></table></div></details></td></tr><tr><td>19</td><td><details class=\"dni-treeview\"><summary><span class=\"dni-code-hint\"><code>Submission#8+KB</code></span></summary><div><table><thead><tr></tr></thead><tbody><tr><td>kb</td><td><div class=\"dni-plaintext\"><pre>Why study Machine Learning</pre></div></td></tr><tr><td>content</td><td><div class=\"dni-plaintext\"><pre>Hot Topic because it&#39;s solving complex real-world problems in so many areas Finance earth science space exploration cognitive science and many more Fields have adopted machine learning to solve problems specific to their domains for example you can use machine learning to predict the likelihood of disease from a patient&#39;s medical history to anticipate weather events to understand the sentiment of a text and to detect fake news and stop the spread of propaganda applications of machine learning are almost everywhere and are as ubiquitous as the data that is Flowing from our devices and systems because of how useful it is understanding the basics of machine learning is going to help you no matter what domain you&#39;re coming from in the next video in the series I&#39;ll give an overview of the history of ml I&#39;ll see you there</pre></div></td></tr></tbody></table></div></details></td></tr></tbody></table><style>\r\n",
       ".dni-code-hint {\r\n",
       "    font-style: italic;\r\n",
       "    overflow: hidden;\r\n",
       "    white-space: nowrap;\r\n",
       "}\r\n",
       ".dni-treeview {\r\n",
       "    white-space: nowrap;\r\n",
       "}\r\n",
       ".dni-treeview td {\r\n",
       "    vertical-align: top;\r\n",
       "    text-align: start;\r\n",
       "}\r\n",
       "details.dni-treeview {\r\n",
       "    padding-left: 1em;\r\n",
       "}\r\n",
       "table td {\r\n",
       "    text-align: start;\r\n",
       "}\r\n",
       "table tr { \r\n",
       "    vertical-align: top; \r\n",
       "    margin: 0em 0px;\r\n",
       "}\r\n",
       "table tr td pre \r\n",
       "{ \r\n",
       "    vertical-align: top !important; \r\n",
       "    margin: 0em 0px !important;\r\n",
       "} \r\n",
       "table th {\r\n",
       "    text-align: start;\r\n",
       "}\r\n",
       "</style>"
      ]
     },
     "metadata": {},
     "output_type": "display_data"
    }
   ],
   "source": [
    "kbList"
   ]
  },
  {
   "cell_type": "markdown",
   "metadata": {},
   "source": [
    "Get knowledge from notes"
   ]
  },
  {
   "cell_type": "code",
   "execution_count": 13,
   "metadata": {
    "dotnet_interactive": {
     "language": "csharp"
    },
    "polyglot_notebook": {
     "kernelName": "csharp"
    }
   },
   "outputs": [],
   "source": [
    "DirectoryInfo notesFolder = new DirectoryInfo(@\"./data/notes\");    \n",
    "FileInfo[] notesFiles = notesFolder.GetFiles();"
   ]
  },
  {
   "cell_type": "code",
   "execution_count": 14,
   "metadata": {
    "dotnet_interactive": {
     "language": "csharp"
    },
    "polyglot_notebook": {
     "kernelName": "csharp"
    }
   },
   "outputs": [],
   "source": [
    "\n",
    "foreach(var file in notesFiles)\n",
    "{\n",
    "    string content = File.ReadAllText(file.FullName);\n",
    "    var jsonResult = await kernel.RunAsync(content, filePlugin[\"Notes\"]);\n",
    "    var result = JsonSerializer.Deserialize<KB>(jsonResult.ToString());\n",
    "    kbList.Add(result);\n",
    "}"
   ]
  },
  {
   "cell_type": "markdown",
   "metadata": {},
   "source": [
    "### **What's Embeddings**\n",
    "\n",
    "An embedding is a relatively low-dimensional space into which you can translate high-dimensional vectors. Embeddings make it easier to do machine learning on large inputs like sparse vectors representing words. Ideally, an embedding captures some of the semantics of the input by placing semantically similar inputs close together in the embedding space. An embedding can be learned and reused across models."
   ]
  },
  {
   "cell_type": "markdown",
   "metadata": {},
   "source": [
    "**Note:** We use qdrant for this sample . please open terminal and run this code to start qdrant db\n",
    "\n",
    "```bash\n",
    "\n",
    "docker run -p 6333:6333 qdrant/qdrant\n",
    "\n",
    "```"
   ]
  },
  {
   "cell_type": "code",
   "execution_count": 17,
   "metadata": {
    "dotnet_interactive": {
     "language": "csharp"
    },
    "polyglot_notebook": {
     "kernelName": "csharp"
    }
   },
   "outputs": [],
   "source": [
    "var qdrantMemoryBuilder = new MemoryBuilder();\n",
    "\n",
    "var textEmbedding = new AzureTextEmbeddingGeneration(AZURE_OPENAI_EMBEDDING_DEPLOYMENT, AZURE_OPENAI_ENDPOINT, AZURE_OPENAI_KEY);\n",
    "qdrantMemoryBuilder.WithTextEmbeddingGeneration(textEmbedding);\n",
    "qdrantMemoryBuilder.WithQdrantMemoryStore(QDRANT_HOST, 1536);\n",
    "\n",
    "var builder = qdrantMemoryBuilder.Build();"
   ]
  },
  {
   "cell_type": "markdown",
   "metadata": {},
   "source": [
    "save knowledge to vectordb"
   ]
  },
  {
   "cell_type": "code",
   "execution_count": 18,
   "metadata": {
    "dotnet_interactive": {
     "language": "csharp"
    },
    "polyglot_notebook": {
     "kernelName": "csharp"
    }
   },
   "outputs": [],
   "source": [
    "string MemoryCollectionName = \"kb_collection\";\n",
    "int index = 1;\n",
    "\n",
    "\n",
    "foreach(var item in kbList)\n",
    "{\n",
    "    await builder.SaveInformationAsync(MemoryCollectionName, id: \"index\"+(index++).ToString(), text: item.kb + \" -  \" + item.content);\n",
    "}"
   ]
  },
  {
   "cell_type": "markdown",
   "metadata": {},
   "source": [
    "### **Testing**"
   ]
  },
  {
   "cell_type": "code",
   "execution_count": 19,
   "metadata": {
    "dotnet_interactive": {
     "language": "csharp"
    },
    "polyglot_notebook": {
     "kernelName": "csharp"
    }
   },
   "outputs": [],
   "source": [
    "var searchResults =  builder.SearchAsync(MemoryCollectionName, \"can you tell me what is different ML and AI\", limit: 1, minRelevanceScore: 0.8);\n"
   ]
  },
  {
   "cell_type": "code",
   "execution_count": 20,
   "metadata": {
    "dotnet_interactive": {
     "language": "csharp"
    },
    "polyglot_notebook": {
     "kernelName": "csharp"
    }
   },
   "outputs": [
    {
     "name": "stdout",
     "output_type": "stream",
     "text": [
      "going to focus on machine learning and its relationship to artificial intelligence. Machine learning is a branch of AI that uses algorithms to make decisions by learning from data. It is a popular and successful approach in AI. Deep learning, on the other hand, is a subset of machine learning that relies on neural networks to learn from data. In this course, we will primarily explore machine learning and its connection to artificial intelligence.\n"
     ]
    }
   ],
   "source": [
    "\n",
    "await foreach (var item in searchResults)\n",
    "{\n",
    "    var answer = await kernel.RunAsync(item.Metadata.Text, answerPlugin[\"Summary\"]);\n",
    "    Console.WriteLine(answer.ToString());\n",
    "}"
   ]
  },
  {
   "cell_type": "code",
   "execution_count": 21,
   "metadata": {
    "dotnet_interactive": {
     "language": "csharp"
    },
    "polyglot_notebook": {
     "kernelName": "csharp"
    }
   },
   "outputs": [],
   "source": [
    "var searchResults =  builder.SearchAsync(MemoryCollectionName, \"do you know 1956: Dartmouth Summer Research Project\", limit: 1, minRelevanceScore: 0.7);\n"
   ]
  },
  {
   "cell_type": "code",
   "execution_count": 22,
   "metadata": {
    "dotnet_interactive": {
     "language": "csharp"
    },
    "polyglot_notebook": {
     "kernelName": "csharp"
    }
   },
   "outputs": [
    {
     "name": "stdout",
     "output_type": "stream",
     "text": [
      "The Dartmouth Summer Research Project on AI, held at Dartmouth College in the U.S., marked the beginning of the field of artificial intelligence (AI). It brought together a small group of scientists who coined the term AI. This conference laid the foundation for the research and development of AI as we know it today.\n"
     ]
    }
   ],
   "source": [
    "await foreach (var item in searchResults)\n",
    "{\n",
    "    var answer = await kernel.RunAsync(item.Metadata.Text, answerPlugin[\"Summary\"]);\n",
    "    Console.WriteLine(answer.ToString());\n",
    "}"
   ]
  }
 ],
 "metadata": {
  "kernelspec": {
   "display_name": ".NET (C#)",
   "language": "C#",
   "name": ".net-csharp"
  },
  "language_info": {
   "name": "polyglot-notebook"
  },
  "polyglot_notebook": {
   "kernelInfo": {
    "defaultKernelName": "csharp",
    "items": [
     {
      "aliases": [],
      "languageName": "csharp",
      "name": "csharp"
     }
    ]
   }
  }
 },
 "nbformat": 4,
 "nbformat_minor": 2
}
